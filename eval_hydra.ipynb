{
 "cells": [
  {
   "cell_type": "code",
   "execution_count": 16,
   "metadata": {},
   "outputs": [
    {
     "name": "stdout",
     "output_type": "stream",
     "text": [
      "Starting device with CPU...\n"
     ]
    }
   ],
   "source": [
    "\n",
    "import numpy as np\n",
    "import json\n",
    "import cv2\n",
    "import json\n",
    "import os\n",
    "import random\n",
    "\n",
    "from src.HydraPose import HydraPose\n",
    "hy = HydraPose()\n",
    "\n",
    "import sys\n",
    "sys.path.insert(0, '/home/guisoares/soares_repo/MVOR/lib/')\n",
    "\n",
    "from visualize_groundtruth import create_index\n"
   ]
  },
  {
   "cell_type": "code",
   "execution_count": 18,
   "metadata": {},
   "outputs": [
    {
     "name": "stdout",
     "output_type": "stream",
     "text": [
      "creating index for 2D annotations\n",
      "done\n",
      "creating index for 3D annotations\n",
      "Index creation done\n"
     ]
    }
   ],
   "source": [
    "GT_ANNO_PATH = os.path.join(os.path.expanduser('~'), \"soares_repo\", \"MVOR\",\"annotations/camma_mvor_2018.json\")\n",
    "GT_IMGS_PATH = '/media/guisoares/guisoares-ext-hdd/Datasets/camma_mvor_dataset/'\n",
    "\n",
    "# load the ground truth annotations\n",
    "camma_mvor_gt = json.load(open(GT_ANNO_PATH))\n",
    "anno_2d, anno_3d, mv_paths, imid_to_path = create_index(camma_mvor_gt)"
   ]
  },
  {
   "cell_type": "code",
   "execution_count": 6,
   "metadata": {},
   "outputs": [
    {
     "data": {
      "text/plain": [
       "'day1/cam2/color/000017.png'"
      ]
     },
     "execution_count": 6,
     "metadata": {},
     "output_type": "execute_result"
    }
   ],
   "source": [
    "# imid_to_path.keys()\n",
    "imid_to_path[10020000017]"
   ]
  },
  {
   "cell_type": "markdown",
   "metadata": {},
   "source": [
    "Some functions to make the evaluation process"
   ]
  },
  {
   "cell_type": "code",
   "execution_count": null,
   "metadata": {},
   "outputs": [],
   "source": [
    "\n",
    "def hydrapose(img_path):\n",
    "    img = cv2.imread(img_path)\n",
    "    persons = hy.estimate3DPose()\n",
    "    return persons\n",
    "\n",
    "def getPersonMediumDist(person1, person2):\n",
    "    dists = []\n",
    "    for kpt1, kpt2 in zip(person1, person2):\n",
    "        dist = np.sqrt(np.sum(np.power(kpt1 - kpt2, 2)))\n",
    "        dists.append(dist)\n",
    "    \n",
    "    dists = np.array(dists)\n",
    "    mean = np.mean(dists)\n",
    "    return mean, dists\n",
    "\n",
    "def getMinimalDist(persons_est, persons_annon):\n",
    "\n",
    "    # Store\n",
    "    min_index_list = []\n",
    "    min_error_per_joint_list = []\n",
    "    min_mean_error_per_joint_list = []\n",
    "    # Get the annotation index that results the minimal mean error\n",
    "    for person_est in persons_est:\n",
    "        mean_error_list = []\n",
    "        error_per_joint_list = []\n",
    "        for person_annon in persons_annon:\n",
    "            mean_error, error_per_joint = getMinimalDist(person_est, person_annon)\n",
    "            mean_error_list.append(mean_error)\n",
    "            error_per_joint_list.append(error_per_joint)\n",
    "        # Get the index of the minimum error and insert on a list that contains it \n",
    "        min_index = np.argmin(mean_error_list)\n",
    "        min_index_list.append(min_index)\n",
    "        min_error_per_joint_list.append(error_per_joint_list[min_index])\n",
    "        min_mean_error_per_joint_list.append(mean_error_list[min_index])\n",
    "    \n",
    "    # Certifie that index list has diferent elements, meaning that no estimation has the same annotation\n",
    "    _, count = np.unique(min_index_list, return_counts = True)\n",
    "    for c in count:\n",
    "        if c != 1:\n",
    "            raise AssertionError(\"The mapped index list has duplicated elements\")\n",
    "\n",
    "    # Remap annotation to\n",
    "    persons_annon_remapped = persons_annon[min_index_list]\n",
    "\n",
    "    return persons_est, persons_annon_remapped, min_mean_error_per_joint_list, min_error_per_joint_list"
   ]
  },
  {
   "cell_type": "code",
   "execution_count": 19,
   "metadata": {},
   "outputs": [
    {
     "ename": "NameError",
     "evalue": "name 'DATASET_IMG_PATH' is not defined",
     "output_type": "error",
     "traceback": [
      "\u001b[0;31m---------------------------------------------------------------------------\u001b[0m",
      "\u001b[0;31mNameError\u001b[0m                                 Traceback (most recent call last)",
      "\u001b[0;32m/tmp/ipykernel_8517/4057555533.py\u001b[0m in \u001b[0;36m<module>\u001b[0;34m\u001b[0m\n\u001b[1;32m      2\u001b[0m \u001b[0mimid_3d\u001b[0m \u001b[0;34m=\u001b[0m \u001b[0mrandom\u001b[0m\u001b[0;34m.\u001b[0m\u001b[0mchoice\u001b[0m\u001b[0;34m(\u001b[0m\u001b[0mlist\u001b[0m\u001b[0;34m(\u001b[0m\u001b[0mmv_paths\u001b[0m\u001b[0;34m.\u001b[0m\u001b[0mkeys\u001b[0m\u001b[0;34m(\u001b[0m\u001b[0;34m)\u001b[0m\u001b[0;34m)\u001b[0m\u001b[0;34m)\u001b[0m\u001b[0;34m\u001b[0m\u001b[0;34m\u001b[0m\u001b[0m\n\u001b[1;32m      3\u001b[0m \u001b[0mimids_2d\u001b[0m \u001b[0;34m=\u001b[0m \u001b[0;34m[\u001b[0m\u001b[0mint\u001b[0m\u001b[0;34m(\u001b[0m\u001b[0mm\u001b[0m\u001b[0;34m)\u001b[0m \u001b[0;32mfor\u001b[0m \u001b[0mm\u001b[0m \u001b[0;32min\u001b[0m \u001b[0mimid_3d\u001b[0m\u001b[0;34m.\u001b[0m\u001b[0msplit\u001b[0m\u001b[0;34m(\u001b[0m\u001b[0;34m\"_\"\u001b[0m\u001b[0;34m)\u001b[0m\u001b[0;34m]\u001b[0m\u001b[0;34m\u001b[0m\u001b[0;34m\u001b[0m\u001b[0m\n\u001b[0;32m----> 4\u001b[0;31m \u001b[0mimgs\u001b[0m \u001b[0;34m=\u001b[0m \u001b[0;34m[\u001b[0m\u001b[0mcv2\u001b[0m\u001b[0;34m.\u001b[0m\u001b[0mimread\u001b[0m\u001b[0;34m(\u001b[0m\u001b[0mos\u001b[0m\u001b[0;34m.\u001b[0m\u001b[0mpath\u001b[0m\u001b[0;34m.\u001b[0m\u001b[0mjoin\u001b[0m\u001b[0;34m(\u001b[0m\u001b[0mDATASET_IMG_PATH\u001b[0m\u001b[0;34m,\u001b[0m \u001b[0mimid_to_path\u001b[0m\u001b[0;34m[\u001b[0m\u001b[0m_p\u001b[0m\u001b[0;34m]\u001b[0m\u001b[0;34m)\u001b[0m\u001b[0;34m)\u001b[0m \u001b[0;32mfor\u001b[0m \u001b[0m_p\u001b[0m \u001b[0;32min\u001b[0m \u001b[0mimids_2d\u001b[0m\u001b[0;34m]\u001b[0m\u001b[0;34m\u001b[0m\u001b[0;34m\u001b[0m\u001b[0m\n\u001b[0m",
      "\u001b[0;32m/tmp/ipykernel_8517/4057555533.py\u001b[0m in \u001b[0;36m<listcomp>\u001b[0;34m(.0)\u001b[0m\n\u001b[1;32m      2\u001b[0m \u001b[0mimid_3d\u001b[0m \u001b[0;34m=\u001b[0m \u001b[0mrandom\u001b[0m\u001b[0;34m.\u001b[0m\u001b[0mchoice\u001b[0m\u001b[0;34m(\u001b[0m\u001b[0mlist\u001b[0m\u001b[0;34m(\u001b[0m\u001b[0mmv_paths\u001b[0m\u001b[0;34m.\u001b[0m\u001b[0mkeys\u001b[0m\u001b[0;34m(\u001b[0m\u001b[0;34m)\u001b[0m\u001b[0;34m)\u001b[0m\u001b[0;34m)\u001b[0m\u001b[0;34m\u001b[0m\u001b[0;34m\u001b[0m\u001b[0m\n\u001b[1;32m      3\u001b[0m \u001b[0mimids_2d\u001b[0m \u001b[0;34m=\u001b[0m \u001b[0;34m[\u001b[0m\u001b[0mint\u001b[0m\u001b[0;34m(\u001b[0m\u001b[0mm\u001b[0m\u001b[0;34m)\u001b[0m \u001b[0;32mfor\u001b[0m \u001b[0mm\u001b[0m \u001b[0;32min\u001b[0m \u001b[0mimid_3d\u001b[0m\u001b[0;34m.\u001b[0m\u001b[0msplit\u001b[0m\u001b[0;34m(\u001b[0m\u001b[0;34m\"_\"\u001b[0m\u001b[0;34m)\u001b[0m\u001b[0;34m]\u001b[0m\u001b[0;34m\u001b[0m\u001b[0;34m\u001b[0m\u001b[0m\n\u001b[0;32m----> 4\u001b[0;31m \u001b[0mimgs\u001b[0m \u001b[0;34m=\u001b[0m \u001b[0;34m[\u001b[0m\u001b[0mcv2\u001b[0m\u001b[0;34m.\u001b[0m\u001b[0mimread\u001b[0m\u001b[0;34m(\u001b[0m\u001b[0mos\u001b[0m\u001b[0;34m.\u001b[0m\u001b[0mpath\u001b[0m\u001b[0;34m.\u001b[0m\u001b[0mjoin\u001b[0m\u001b[0;34m(\u001b[0m\u001b[0mDATASET_IMG_PATH\u001b[0m\u001b[0;34m,\u001b[0m \u001b[0mimid_to_path\u001b[0m\u001b[0;34m[\u001b[0m\u001b[0m_p\u001b[0m\u001b[0;34m]\u001b[0m\u001b[0;34m)\u001b[0m\u001b[0;34m)\u001b[0m \u001b[0;32mfor\u001b[0m \u001b[0m_p\u001b[0m \u001b[0;32min\u001b[0m \u001b[0mimids_2d\u001b[0m\u001b[0;34m]\u001b[0m\u001b[0;34m\u001b[0m\u001b[0;34m\u001b[0m\u001b[0m\n\u001b[0m",
      "\u001b[0;31mNameError\u001b[0m: name 'DATASET_IMG_PATH' is not defined"
     ]
    }
   ],
   "source": [
    "# Read a random multi-view image\n",
    "imid_3d = random.choice(list(mv_paths.keys()))\n",
    "imids_2d = [int(m) for m in imid_3d.split(\"_\")]\n",
    "imgs = [cv2.imread(os.path.join(GT_IMGS_PATH, imid_to_path[_p])) for _p in imids_2d]"
   ]
  },
  {
   "cell_type": "code",
   "execution_count": null,
   "metadata": {},
   "outputs": [],
   "source": []
  }
 ],
 "metadata": {
  "interpreter": {
   "hash": "fd156d1bfb48eb4ee1a6eb8f39a444f48635a09375c4c26039d85d949812f675"
  },
  "kernelspec": {
   "display_name": "Python 3.8.10 ('full')",
   "language": "python",
   "name": "python3"
  },
  "language_info": {
   "codemirror_mode": {
    "name": "ipython",
    "version": 3
   },
   "file_extension": ".py",
   "mimetype": "text/x-python",
   "name": "python",
   "nbconvert_exporter": "python",
   "pygments_lexer": "ipython3",
   "version": "3.8.10"
  },
  "orig_nbformat": 4
 },
 "nbformat": 4,
 "nbformat_minor": 2
}
