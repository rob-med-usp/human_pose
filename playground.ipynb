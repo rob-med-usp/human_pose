{
 "cells": [
  {
   "cell_type": "code",
   "execution_count": null,
   "metadata": {},
   "outputs": [],
   "source": [
    "\n",
    "import numpy as np\n",
    "import json\n",
    "import cv2\n",
    "import json\n",
    "import os\n",
    "import random\n",
    "\n",
    "import matplotlib.pyplot as plt\n",
    "\n",
    "# from src.HydraPose import HydraPose, SEFFPOSE\n",
    "# from src.SkeletonsBridge import SkeletonsBridge\n",
    "# bridge = SkeletonsBridge()\n",
    "\n",
    "\n",
    "import sys\n",
    "sys.path.insert(0, '/home/guisoares/soares_repo/MVOR/lib/')\n",
    "\n",
    "from visualize_groundtruth import create_index, viz2d, plt_imshow, bgr2rgb, plt_3dplot, coco_to_camma_kps, progress_bar"
   ]
  },
  {
   "cell_type": "code",
   "execution_count": null,
   "metadata": {},
   "outputs": [],
   "source": [
    "GT_ANNO_PATH = os.path.join(os.path.expanduser('~'), \"soares_repo\", \"MVOR\",\"annotations/camma_mvor_2018.json\")\n",
    "GT_IMGS_PATH = '/media/guisoares/guisoares-ext-hdd/Datasets/camma_mvor_dataset/'\n",
    "\n",
    "# load the ground truth annotations\n",
    "camma_mvor_gt = json.load(open(GT_ANNO_PATH))\n",
    "anno_2d, anno_3d, mv_paths, imid_to_path = create_index(camma_mvor_gt)"
   ]
  }
 ],
 "metadata": {
  "language_info": {
   "name": "python"
  },
  "orig_nbformat": 4
 },
 "nbformat": 4,
 "nbformat_minor": 2
}
